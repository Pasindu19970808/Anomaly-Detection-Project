{
 "cells": [
  {
   "cell_type": "code",
   "execution_count": 110,
   "id": "774719a3",
   "metadata": {},
   "outputs": [],
   "source": [
    "import os\n",
    "import matplotlib.pyplot as plt\n",
    "import pandas as pd\n",
    "import numpy as np\n",
    "\n",
    "# import re\n",
    "# import pyod\n",
    "# from pyod.models.iforest import IForest\n",
    "# import pyod.models.auto_encoder_torch as ae\n",
    "\n",
    "import sklearn\n",
    "from sklearn import metrics\n",
    "from datetime import datetime\n",
    "from sklearn.ensemble import RandomForestClassifier, GradientBoostingClassifier\n",
    "from sklearn.neural_network import MLPClassifier\n",
    "from sklearn.preprocessing import OneHotEncoder"
   ]
  },
  {
   "cell_type": "code",
   "execution_count": 90,
   "id": "59d205ff",
   "metadata": {},
   "outputs": [],
   "source": [
    "# Load Train Data\n",
    "file_path = os.path.join(os.getcwd(), 'KPI')\n",
    "file_name = 'train-data.csv'\n",
    "file_to_load = os.path.join(file_path, file_name)\n",
    "train_data = pd.read_csv(os.path.join(file_path, file_to_load))\n",
    "\n",
    "# Convert 'timestamp' column to date-time format and then to ordinal\n",
    "train_data['timestamp'] = pd.to_datetime(train_data['timestamp']) \n",
    "train_data['timestamp'].apply(lambda x: x.toordinal())\n",
    "train_data['timestamp'] = pd.to_numeric(train_data['timestamp'])\n",
    "\n",
    "# Employ one-hot encoding on 'KPI ID'\n",
    "enc = OneHotEncoder(handle_unknown='ignore')\n",
    "enc.fit(train_data[['KPI ID']])\n",
    "onehotlabels_df = pd.DataFrame(enc.transform(train_data[['KPI ID']]).toarray())\n",
    "\n",
    "# Split into x and y panda DataFrames for feeding to sklearn\n",
    "train_data_x = train_data[['timestamp','value']]\n",
    "train_data_x = train_data_x.join(onehotlabels_df)\n",
    "train_data_y = pd.DataFrame({'label': train_data['label']})\n",
    "\n",
    "# Note that \"timestamp\" is in Unix timestamp format\n",
    "# convert this into date/time"
   ]
  },
  {
   "cell_type": "code",
   "execution_count": 125,
   "id": "4e1efd6e",
   "metadata": {},
   "outputs": [],
   "source": [
    "# Load Test Data\n",
    "file_path = os.path.join(os.getcwd(), 'KPI')\n",
    "file_name = 'test-data.hdf'\n",
    "file_to_load = os.path.join(file_path, file_name)\n",
    "test_data = pd.read_hdf(os.path.join(file_path, file_to_load))\n",
    "\n",
    "# There is some strange index issue, not sure of a more proper way to correct it, but converting to to NP array and back does the trick\n",
    "test_data_np = test_data.to_numpy()\n",
    "test_data = pd.DataFrame({'timestamp': test_data_np[:,0], 'value': test_data_np[:,1], 'label': test_data_np[:,2], 'KPI ID' : test_data_np[:,3]})\n",
    "test_data['timestamp'] = pd.to_numeric(test_data['timestamp'])\n",
    "test_data['value'] = pd.to_numeric(test_data['value'])\n",
    "\n",
    "# seems sklearn needs the data to be as ordinal data. The unix data format is already ordinal so I believe below is not needed\n",
    "# # Convert 'timestamp' column to date-time format and then to ordinal \n",
    "# test_data['timestamp'] = pd.to_datetime(test_data['timestamp']) \n",
    "# test_data['timestamp'].apply(lambda x: x.toordinal())\n",
    "# test_data['timestamp'] = pd.to_numeric(test_data['timestamp'])\n",
    "\n",
    "# Employ one-hot encoding on 'KPI ID'\n",
    "enc = OneHotEncoder(handle_unknown='ignore')\n",
    "enc.fit(test_data[['KPI ID']])\n",
    "onehotlabels_df = pd.DataFrame(enc.transform(test_data[['KPI ID']]).toarray())\n",
    "\n",
    "# Split into x panda DataFrames for feeding to sklearn (y is predicted)\n",
    "test_data_x = test_data[['timestamp','value']]\n",
    "test_data_x = test_data_x.join(onehotlabels_df)\n",
    "test_data_y = pd.DataFrame({'label': test_data['label']})\n",
    "test_data_y['label'] = pd.to_numeric(test_data['label'])\n",
    "\n",
    "# Note that \"timestamp\" is in Unix timestamp format"
   ]
  },
  {
   "cell_type": "code",
   "execution_count": 45,
   "id": "fa47d1bf",
   "metadata": {},
   "outputs": [],
   "source": [
    "# only run one of the models below - "
   ]
  },
  {
   "cell_type": "code",
   "execution_count": 115,
   "id": "1246ffe6",
   "metadata": {},
   "outputs": [
    {
     "name": "stderr",
     "output_type": "stream",
     "text": [
      "C:\\Users\\Paul\\Anaconda3\\lib\\site-packages\\sklearn\\neural_network\\_multilayer_perceptron.py:614: ConvergenceWarning: Stochastic Optimizer: Maximum iterations (10) reached and the optimization hasn't converged yet.\n",
      "  warnings.warn(\n"
     ]
    },
    {
     "data": {
      "text/plain": [
       "MLPClassifier(hidden_layer_sizes=[100, 100], max_iter=10, random_state=1)"
      ]
     },
     "execution_count": 115,
     "metadata": {},
     "output_type": "execute_result"
    }
   ],
   "source": [
    "# MLPClassifier (Each iteration ~1 min)\n",
    "train_data_y_np = np.ravel(train_data_y.to_numpy())\n",
    "\n",
    "clf = MLPClassifier(hidden_layer_sizes=[100, 100], random_state=1, max_iter=100)\n",
    "clf.fit(train_data_x,train_data_y_np)"
   ]
  },
  {
   "cell_type": "code",
   "execution_count": 103,
   "id": "8fbca35f",
   "metadata": {},
   "outputs": [
    {
     "data": {
      "text/plain": [
       "GradientBoostingClassifier(max_depth=5, n_estimators=10, random_state=0)"
      ]
     },
     "execution_count": 103,
     "metadata": {},
     "output_type": "execute_result"
    }
   ],
   "source": [
    "# Gradient Boosting Model\n",
    "train_data_y_np = np.ravel(train_data_y.to_numpy())\n",
    "\n",
    "clf = GradientBoostingClassifier(n_estimators=10, learning_rate=0.1, max_depth=5, random_state=0)\n",
    "clf.fit(train_data_x,train_data_y_np)"
   ]
  },
  {
   "cell_type": "code",
   "execution_count": 72,
   "id": "ed8d6957",
   "metadata": {},
   "outputs": [
    {
     "data": {
      "text/plain": [
       "RandomForestClassifier(max_depth=5, n_estimators=10, random_state=0)"
      ]
     },
     "execution_count": 72,
     "metadata": {},
     "output_type": "execute_result"
    }
   ],
   "source": [
    "# Random Forest\n",
    "train_data_y_np = np.ravel(train_data_y.to_numpy())\n",
    "\n",
    "clf = RandomForestClassifier(n_estimators=10, max_depth=5, random_state=0)\n",
    "clf.fit(train_data_x,train_data_y_np)"
   ]
  },
  {
   "cell_type": "code",
   "execution_count": 116,
   "id": "6faea78b",
   "metadata": {},
   "outputs": [],
   "source": [
    "# Use trained model to predict y for training data (for validation)\n",
    "train_data_pred_y = pd.DataFrame({'label': clf.predict(train_data_x)})\n",
    "train_data_pred = pd.DataFrame({'timestamp': train_data['timestamp'], 'value': train_data['value'], 'label': train_data_pred_y['label'], 'KPI ID': train_data['KPI ID']})\n",
    "train_data_compare = pd.DataFrame({'label': train_data['label'], 'pred_label': train_data_pred_y['label']})\n",
    "\n",
    "# Use trained model to predict y on test data\n",
    "test_data_pred_y = pd.DataFrame({'label': clf.predict(test_data_x)})\n",
    "test_data_pred = pd.DataFrame({'timestamp': test_data['timestamp'], 'value': test_data['value'], 'label': test_data_pred_y['label'], 'KPI ID': test_data['KPI ID']})\n",
    "test_data_compare = pd.DataFrame({'label': test_data['label'], 'pred_label': test_data_pred_y['label']})"
   ]
  },
  {
   "cell_type": "code",
   "execution_count": 117,
   "id": "df8d88b6",
   "metadata": {},
   "outputs": [
    {
     "name": "stdout",
     "output_type": "stream",
     "text": [
      "***** INFO ON THE TRAINING SET *****\n",
      "Model classified total data points with accuracy of: 97.4%.\n",
      "Out of the 79554 outliers in the training data set, the training model correctly identified 0, or 0.0%.\n",
      "***** INFO ON THE TEST SET *****\n",
      "Model classified total data points with accuracy of: 98.1%.\n",
      "Out of the 54560 outliers in the training data set, the training model correctly identified 0, or 0.0%.\n",
      "***** CLASSIFICATION REPORT *****\n"
     ]
    },
    {
     "name": "stderr",
     "output_type": "stream",
     "text": [
      "C:\\Users\\Paul\\Anaconda3\\lib\\site-packages\\sklearn\\metrics\\_classification.py:1245: UndefinedMetricWarning: Precision and F-score are ill-defined and being set to 0.0 in labels with no predicted samples. Use `zero_division` parameter to control this behavior.\n",
      "  _warn_prf(average, modifier, msg_start, len(result))\n",
      "C:\\Users\\Paul\\Anaconda3\\lib\\site-packages\\sklearn\\metrics\\_classification.py:1245: UndefinedMetricWarning: Precision and F-score are ill-defined and being set to 0.0 in labels with no predicted samples. Use `zero_division` parameter to control this behavior.\n",
      "  _warn_prf(average, modifier, msg_start, len(result))\n"
     ]
    },
    {
     "name": "stdout",
     "output_type": "stream",
     "text": [
      "              precision    recall  f1-score   support\n",
      "\n",
      "           0       0.98      1.00      0.99   2864287\n",
      "           1       0.00      0.00      0.00     54560\n",
      "\n",
      "    accuracy                           0.98   2918847\n",
      "   macro avg       0.49      0.50      0.50   2918847\n",
      "weighted avg       0.96      0.98      0.97   2918847\n",
      "\n"
     ]
    },
    {
     "name": "stderr",
     "output_type": "stream",
     "text": [
      "C:\\Users\\Paul\\Anaconda3\\lib\\site-packages\\sklearn\\metrics\\_classification.py:1245: UndefinedMetricWarning: Precision and F-score are ill-defined and being set to 0.0 in labels with no predicted samples. Use `zero_division` parameter to control this behavior.\n",
      "  _warn_prf(average, modifier, msg_start, len(result))\n"
     ]
    }
   ],
   "source": [
    "# Confusion matrix\n",
    "\n",
    "# Calculate metrics from training set \n",
    "train_outliers = train_data_compare[(train_data_compare['label'] == 1)]['label'].count()\n",
    "train_pred_outliers = train_data_compare[(train_data_compare['pred_label'] == 1)]['label'].count()\n",
    "train_correctly_identified_outliers = train_data_compare[(train_data_compare['label'] == 1) & (train_data_compare['pred_label'] == 1)]['label'].count()\n",
    "\n",
    "# Calculate metrics from test set \n",
    "test_outliers = test_data_compare[(test_data_compare['label'] == 1)]['label'].count()\n",
    "test_pred_outliers = test_data_compare[(test_data_compare['pred_label'] == 1)]['label'].count()\n",
    "test_correctly_identified_outliers = test_data_compare[(test_data_compare['label'] == 1) & (test_data_compare['pred_label'] == 1)]['label'].count()\n",
    "\n",
    "print(\"***** INFO ON THE TRAINING SET *****\")\n",
    "print(\"Model classified total data points with accuracy of: \" + str(f\"{sklearn.metrics.accuracy_score(train_data_y, train_data_pred_y):.1%}\") + \".\")\n",
    "print(\"Out of the \" + str(train_outliers) + \" outliers in the training data set, the training model correctly identified \" + str(train_correctly_identified_outliers) + \", or \" + str(f\"{train_correctly_identified_outliers / train_outliers:.1%}\") + \".\")\n",
    "print(\"***** INFO ON THE TEST SET *****\")\n",
    "print(\"Model classified total data points with accuracy of: \" + str(f\"{sklearn.metrics.accuracy_score(test_data_y, test_data_pred_y):.1%}\") + \".\")\n",
    "print(\"Out of the \" + str(test_outliers) + \" outliers in the training data set, the training model correctly identified \" + str(test_correctly_identified_outliers) + \", or \" + str(f\"{test_correctly_identified_outliers / test_outliers:.1%}\") + \".\")\n",
    "print(\"***** CLASSIFICATION REPORT *****\")\n",
    "print(sklearn.metrics.classification_report(test_data_y, test_data_pred_y))"
   ]
  },
  {
   "cell_type": "code",
   "execution_count": 102,
   "id": "ce849c90",
   "metadata": {},
   "outputs": [
    {
     "name": "stderr",
     "output_type": "stream",
     "text": [
      "C:\\Users\\Paul\\Anaconda3\\lib\\site-packages\\sklearn\\metrics\\_classification.py:1245: UndefinedMetricWarning: Precision and F-score are ill-defined and being set to 0.0 in labels with no predicted samples. Use `zero_division` parameter to control this behavior.\n",
      "  _warn_prf(average, modifier, msg_start, len(result))\n",
      "C:\\Users\\Paul\\Anaconda3\\lib\\site-packages\\sklearn\\metrics\\_classification.py:1245: UndefinedMetricWarning: Precision and F-score are ill-defined and being set to 0.0 in labels with no predicted samples. Use `zero_division` parameter to control this behavior.\n",
      "  _warn_prf(average, modifier, msg_start, len(result))\n"
     ]
    },
    {
     "name": "stdout",
     "output_type": "stream",
     "text": [
      "              precision    recall  f1-score   support\n",
      "\n",
      "           0       0.98      1.00      0.99   2864287\n",
      "           1       0.00      0.00      0.00     54560\n",
      "\n",
      "    accuracy                           0.98   2918847\n",
      "   macro avg       0.49      0.50      0.50   2918847\n",
      "weighted avg       0.96      0.98      0.97   2918847\n",
      "\n"
     ]
    },
    {
     "name": "stderr",
     "output_type": "stream",
     "text": [
      "C:\\Users\\Paul\\Anaconda3\\lib\\site-packages\\sklearn\\metrics\\_classification.py:1245: UndefinedMetricWarning: Precision and F-score are ill-defined and being set to 0.0 in labels with no predicted samples. Use `zero_division` parameter to control this behavior.\n",
      "  _warn_prf(average, modifier, msg_start, len(result))\n"
     ]
    }
   ],
   "source": []
  },
  {
   "cell_type": "code",
   "execution_count": null,
   "id": "6da9f6ad",
   "metadata": {},
   "outputs": [],
   "source": [
    "train_data['timestamp'].dtype"
   ]
  },
  {
   "cell_type": "code",
   "execution_count": null,
   "id": "7d1d2758",
   "metadata": {},
   "outputs": [],
   "source": [
    "# Data actually seems to have a number of parallel information (presumably each unique KPI ID)\n",
    "plt.plot(train_data.index.values, total_data['timestamp'])\n",
    "plt.show()"
   ]
  },
  {
   "cell_type": "code",
   "execution_count": 128,
   "id": "71693fe5",
   "metadata": {},
   "outputs": [
    {
     "data": {
      "image/png": "[encoded data removed]",
      "text/plain": [
       "<Figure size 432x288 with 1 Axes>"
      ]
     },
     "metadata": {
      "needs_background": "light"
     },
     "output_type": "display_data"
    }
   ],
   "source": [
    "# Create data for plot - non-outliers\n",
    "x_norm = train_data.loc[train_data['label']==0]['timestamp']\n",
    "y_norm = train_data.loc[train_data['label']==0]['value']\n",
    "\n",
    "# Create data for plot - outliers\n",
    "x_out = train_data.loc[train_data['label']==1]['timestamp']\n",
    "y_out = train_data.loc[train_data['label']==1]['value']\n",
    "\n",
    "# Plot\n",
    "plt.title('Training Data')\n",
    "plt.scatter(x_norm, y_norm, c='blue', s=.005, alpha=0.5)\n",
    "plt.scatter(x_out, y_out, c='red', s=.5, alpha=0.5)\n",
    "plt.xlabel(\"Date\")\n",
    "plt.ylabel(\"Value\")\n",
    "plt.show()"
   ]
  },
  {
   "cell_type": "code",
   "execution_count": 129,
   "id": "2c550167",
   "metadata": {},
   "outputs": [
    {
     "data": {
      "image/png": "[encoded data removed]",
      "text/plain": [
       "<Figure size 432x288 with 1 Axes>"
      ]
     },
     "metadata": {
      "needs_background": "light"
     },
     "output_type": "display_data"
    }
   ],
   "source": [
    "# Create data for plot - non-outliers\n",
    "x_norm = test_data.loc[test_data['label']==0]['timestamp']\n",
    "y_norm = test_data.loc[test_data['label']==0]['value']\n",
    "\n",
    "# Create data for plot - outliers\n",
    "x_out = test_data.loc[test_data['label']==1]['timestamp']\n",
    "y_out = test_data.loc[test_data['label']==1]['value']\n",
    "\n",
    "# Plot\n",
    "plt.title('Test Data')\n",
    "plt.scatter(x_norm, y_norm, c='blue', s=.005, alpha=0.5)\n",
    "plt.scatter(x_out, y_out, c='red', s=.5, alpha=0.5)\n",
    "plt.xlabel(\"Date\")\n",
    "plt.ylabel(\"Value\")\n",
    "plt.show()"
   ]
  },
  {
   "cell_type": "code",
   "execution_count": 86,
   "id": "4cb2a56b",
   "metadata": {},
   "outputs": [
    {
     "data": {
      "text/plain": [
       "05f10d3a-239c-3bef-9bdc-a2feeb0037aa    146255\n",
       "c69a50cf-ee03-3bd7-831e-407d36c7ee91    146255\n",
       "adb2fde9-8589-3f5b-a410-5fe14386c7af    146254\n",
       "1c6d7a26-1f1a-3321-bb4d-7a9d969ec8f0    146254\n",
       "42d6616d-c9c5-370a-a8ba-17ead74f3114    146253\n",
       "8723f0fb-eaef-32e6-b372-6034c9c04b80    146243\n",
       "6d1114ae-be04-3c46-b5aa-be1a003a57cd    146239\n",
       "847e8ecc-f8d2-3a93-9107-f367a0aab37d    146228\n",
       "55f8b8b8-b659-38df-b3df-e4a5a8a54bc9    146204\n",
       "ba5f3328-9f3f-3ff5-a683-84437d16d554    146126\n",
       "6efa3a07-4544-34a0-b921-a155bd1a05e8    145135\n",
       "431a8542-c468-3988-a508-3afd06a218da    129046\n",
       "6a757df4-95e5-3357-8406-165e2bd49360    129010\n",
       "7103fa0f-cac4-314f-addc-866190247439    128992\n",
       "4d2af31a-9916-3d9f-8a8e-8a268a48c095    128872\n",
       "f0932edd-6400-3e63-9559-0a9860a1baa9    128789\n",
       "57051487-3a40-3828-9084-a12f7f23ee38    128787\n",
       "ffb82d38-5f00-37db-abc0-5d2e4e4cb6aa    128784\n",
       "9c639a46-34c8-39bc-aaf0-9144b37adfc8    108074\n",
       "43115f2a-baeb-3b01-96f7-4ea14188343c    108071\n",
       "da10a69f-d836-3baa-ad40-3e548ecf1fbd    107717\n",
       "a07ac296-de40-3a7c-8df3-91f642cc14d0    106475\n",
       "ab216663-dcc2-3a24-b1ee-2c3e550e06c9     11138\n",
       "54350a12-7a9d-3ca8-b81f-f886b9d156fd      8866\n",
       "a8c06b47-cc41-3738-9110-12df0ee4c721      8863\n",
       "301c70d8-1630-35ac-8f96-bc1b6f4359ea      8784\n",
       "c02607e8-7399-3dde-9d28-8a8da5e5d251      8784\n",
       "0efb375b-b902-3661-ab23-9a0bb799f4e3      8784\n",
       "e0747cad-8dc8-38a9-a9ab-855b61f5551d      8784\n",
       "Name: KPI ID, dtype: int64"
      ]
     },
     "execution_count": 86,
     "metadata": {},
     "output_type": "execute_result"
    }
   ],
   "source": [
    "train_data['KPI ID'].value_counts()"
   ]
  },
  {
   "cell_type": "code",
   "execution_count": 87,
   "id": "a241ad8b",
   "metadata": {},
   "outputs": [
    {
     "data": {
      "text/plain": [
       "42d6616d-c9c5-370a-a8ba-17ead74f3114    149161\n",
       "c69a50cf-ee03-3bd7-831e-407d36c7ee91    149159\n",
       "1c6d7a26-1f1a-3321-bb4d-7a9d969ec8f0    149156\n",
       "adb2fde9-8589-3f5b-a410-5fe14386c7af    149155\n",
       "6efa3a07-4544-34a0-b921-a155bd1a05e8    149148\n",
       "55f8b8b8-b659-38df-b3df-e4a5a8a54bc9    149133\n",
       "ba5f3328-9f3f-3ff5-a683-84437d16d554    149132\n",
       "05f10d3a-239c-3bef-9bdc-a2feeb0037aa    149130\n",
       "847e8ecc-f8d2-3a93-9107-f367a0aab37d    149123\n",
       "6d1114ae-be04-3c46-b5aa-be1a003a57cd    149122\n",
       "8723f0fb-eaef-32e6-b372-6034c9c04b80    149118\n",
       "f0932edd-6400-3e63-9559-0a9860a1baa9    112149\n",
       "57051487-3a40-3828-9084-a12f7f23ee38    111679\n",
       "431a8542-c468-3988-a508-3afd06a218da    111566\n",
       "ffb82d38-5f00-37db-abc0-5d2e4e4cb6aa    111396\n",
       "4d2af31a-9916-3d9f-8a8e-8a268a48c095    111370\n",
       "a07ac296-de40-3a7c-8df3-91f642cc14d0    111307\n",
       "6a757df4-95e5-3357-8406-165e2bd49360    110876\n",
       "9c639a46-34c8-39bc-aaf0-9144b37adfc8    110636\n",
       "43115f2a-baeb-3b01-96f7-4ea14188343c    110629\n",
       "7103fa0f-cac4-314f-addc-866190247439    108425\n",
       "da10a69f-d836-3baa-ad40-3e548ecf1fbd    107167\n",
       "ab216663-dcc2-3a24-b1ee-2c3e550e06c9     10780\n",
       "0efb375b-b902-3661-ab23-9a0bb799f4e3      8784\n",
       "301c70d8-1630-35ac-8f96-bc1b6f4359ea      8784\n",
       "e0747cad-8dc8-38a9-a9ab-855b61f5551d      8784\n",
       "c02607e8-7399-3dde-9d28-8a8da5e5d251      8784\n",
       "54350a12-7a9d-3ca8-b81f-f886b9d156fd      7616\n",
       "a8c06b47-cc41-3738-9110-12df0ee4c721      7578\n",
       "Name: KPI ID, dtype: int64"
      ]
     },
     "execution_count": 87,
     "metadata": {},
     "output_type": "execute_result"
    }
   ],
   "source": [
    "test_data['KPI ID'].value_counts()"
   ]
  },
  {
   "cell_type": "code",
   "execution_count": 88,
   "id": "c178def4",
   "metadata": {},
   "outputs": [
    {
     "data": {
      "text/html": [
       "<div>\n",
       "<style scoped>\n",
       "    .dataframe tbody tr th:only-of-type {\n",
       "        vertical-align: middle;\n",
       "    }\n",
       "\n",
       "    .dataframe tbody tr th {\n",
       "        vertical-align: top;\n",
       "    }\n",
       "\n",
       "    .dataframe thead th {\n",
       "        text-align: right;\n",
       "    }\n",
       "</style>\n",
       "<table border=\"1\" class=\"dataframe\">\n",
       "  <thead>\n",
       "    <tr style=\"text-align: right;\">\n",
       "      <th></th>\n",
       "      <th>timestamp</th>\n",
       "      <th>value</th>\n",
       "      <th>label</th>\n",
       "      <th>KPI ID</th>\n",
       "    </tr>\n",
       "  </thead>\n",
       "  <tbody>\n",
       "    <tr>\n",
       "      <th>0</th>\n",
       "      <td>1476460800</td>\n",
       "      <td>0.012604</td>\n",
       "      <td>0</td>\n",
       "      <td>da10a69f-d836-3baa-ad40-3e548ecf1fbd</td>\n",
       "    </tr>\n",
       "    <tr>\n",
       "      <th>1</th>\n",
       "      <td>1476460860</td>\n",
       "      <td>0.017786</td>\n",
       "      <td>0</td>\n",
       "      <td>da10a69f-d836-3baa-ad40-3e548ecf1fbd</td>\n",
       "    </tr>\n",
       "    <tr>\n",
       "      <th>2</th>\n",
       "      <td>1476460920</td>\n",
       "      <td>0.012014</td>\n",
       "      <td>0</td>\n",
       "      <td>da10a69f-d836-3baa-ad40-3e548ecf1fbd</td>\n",
       "    </tr>\n",
       "    <tr>\n",
       "      <th>3</th>\n",
       "      <td>1476460980</td>\n",
       "      <td>0.017062</td>\n",
       "      <td>0</td>\n",
       "      <td>da10a69f-d836-3baa-ad40-3e548ecf1fbd</td>\n",
       "    </tr>\n",
       "    <tr>\n",
       "      <th>4</th>\n",
       "      <td>1476461040</td>\n",
       "      <td>0.023632</td>\n",
       "      <td>0</td>\n",
       "      <td>da10a69f-d836-3baa-ad40-3e548ecf1fbd</td>\n",
       "    </tr>\n",
       "    <tr>\n",
       "      <th>...</th>\n",
       "      <td>...</td>\n",
       "      <td>...</td>\n",
       "      <td>...</td>\n",
       "      <td>...</td>\n",
       "    </tr>\n",
       "    <tr>\n",
       "      <th>3004061</th>\n",
       "      <td>1500012600</td>\n",
       "      <td>38.130000</td>\n",
       "      <td>0</td>\n",
       "      <td>42d6616d-c9c5-370a-a8ba-17ead74f3114</td>\n",
       "    </tr>\n",
       "    <tr>\n",
       "      <th>3004062</th>\n",
       "      <td>1500012660</td>\n",
       "      <td>37.480000</td>\n",
       "      <td>0</td>\n",
       "      <td>42d6616d-c9c5-370a-a8ba-17ead74f3114</td>\n",
       "    </tr>\n",
       "    <tr>\n",
       "      <th>3004063</th>\n",
       "      <td>1500012720</td>\n",
       "      <td>37.220000</td>\n",
       "      <td>0</td>\n",
       "      <td>42d6616d-c9c5-370a-a8ba-17ead74f3114</td>\n",
       "    </tr>\n",
       "    <tr>\n",
       "      <th>3004064</th>\n",
       "      <td>1500012780</td>\n",
       "      <td>36.390000</td>\n",
       "      <td>0</td>\n",
       "      <td>42d6616d-c9c5-370a-a8ba-17ead74f3114</td>\n",
       "    </tr>\n",
       "    <tr>\n",
       "      <th>3004065</th>\n",
       "      <td>1500012840</td>\n",
       "      <td>37.390000</td>\n",
       "      <td>0</td>\n",
       "      <td>42d6616d-c9c5-370a-a8ba-17ead74f3114</td>\n",
       "    </tr>\n",
       "  </tbody>\n",
       "</table>\n",
       "<p>3004066 rows × 4 columns</p>\n",
       "</div>"
      ],
      "text/plain": [
       "          timestamp      value  label                                KPI ID\n",
       "0        1476460800   0.012604      0  da10a69f-d836-3baa-ad40-3e548ecf1fbd\n",
       "1        1476460860   0.017786      0  da10a69f-d836-3baa-ad40-3e548ecf1fbd\n",
       "2        1476460920   0.012014      0  da10a69f-d836-3baa-ad40-3e548ecf1fbd\n",
       "3        1476460980   0.017062      0  da10a69f-d836-3baa-ad40-3e548ecf1fbd\n",
       "4        1476461040   0.023632      0  da10a69f-d836-3baa-ad40-3e548ecf1fbd\n",
       "...             ...        ...    ...                                   ...\n",
       "3004061  1500012600  38.130000      0  42d6616d-c9c5-370a-a8ba-17ead74f3114\n",
       "3004062  1500012660  37.480000      0  42d6616d-c9c5-370a-a8ba-17ead74f3114\n",
       "3004063  1500012720  37.220000      0  42d6616d-c9c5-370a-a8ba-17ead74f3114\n",
       "3004064  1500012780  36.390000      0  42d6616d-c9c5-370a-a8ba-17ead74f3114\n",
       "3004065  1500012840  37.390000      0  42d6616d-c9c5-370a-a8ba-17ead74f3114\n",
       "\n",
       "[3004066 rows x 4 columns]"
      ]
     },
     "execution_count": 88,
     "metadata": {},
     "output_type": "execute_result"
    }
   ],
   "source": [
    "# Show the data for initial data inspection\n",
    "train_data"
   ]
  },
  {
   "cell_type": "code",
   "execution_count": 118,
   "id": "338ddc35",
   "metadata": {},
   "outputs": [
    {
     "data": {
      "text/html": [
       "<div>\n",
       "<style scoped>\n",
       "    .dataframe tbody tr th:only-of-type {\n",
       "        vertical-align: middle;\n",
       "    }\n",
       "\n",
       "    .dataframe tbody tr th {\n",
       "        vertical-align: top;\n",
       "    }\n",
       "\n",
       "    .dataframe thead th {\n",
       "        text-align: right;\n",
       "    }\n",
       "</style>\n",
       "<table border=\"1\" class=\"dataframe\">\n",
       "  <thead>\n",
       "    <tr style=\"text-align: right;\">\n",
       "      <th></th>\n",
       "      <th>timestamp</th>\n",
       "      <th>value</th>\n",
       "      <th>label</th>\n",
       "      <th>KPI ID</th>\n",
       "    </tr>\n",
       "  </thead>\n",
       "  <tbody>\n",
       "    <tr>\n",
       "      <th>2035</th>\n",
       "      <td>1476583140</td>\n",
       "      <td>0.040727</td>\n",
       "      <td>1</td>\n",
       "      <td>da10a69f-d836-3baa-ad40-3e548ecf1fbd</td>\n",
       "    </tr>\n",
       "    <tr>\n",
       "      <th>2036</th>\n",
       "      <td>1476583200</td>\n",
       "      <td>0.096183</td>\n",
       "      <td>1</td>\n",
       "      <td>da10a69f-d836-3baa-ad40-3e548ecf1fbd</td>\n",
       "    </tr>\n",
       "    <tr>\n",
       "      <th>2037</th>\n",
       "      <td>1476583260</td>\n",
       "      <td>0.085152</td>\n",
       "      <td>1</td>\n",
       "      <td>da10a69f-d836-3baa-ad40-3e548ecf1fbd</td>\n",
       "    </tr>\n",
       "    <tr>\n",
       "      <th>2038</th>\n",
       "      <td>1476583320</td>\n",
       "      <td>0.073104</td>\n",
       "      <td>1</td>\n",
       "      <td>da10a69f-d836-3baa-ad40-3e548ecf1fbd</td>\n",
       "    </tr>\n",
       "    <tr>\n",
       "      <th>2039</th>\n",
       "      <td>1476583380</td>\n",
       "      <td>0.083456</td>\n",
       "      <td>1</td>\n",
       "      <td>da10a69f-d836-3baa-ad40-3e548ecf1fbd</td>\n",
       "    </tr>\n",
       "    <tr>\n",
       "      <th>...</th>\n",
       "      <td>...</td>\n",
       "      <td>...</td>\n",
       "      <td>...</td>\n",
       "      <td>...</td>\n",
       "    </tr>\n",
       "    <tr>\n",
       "      <th>3000341</th>\n",
       "      <td>1499778480</td>\n",
       "      <td>69.180000</td>\n",
       "      <td>1</td>\n",
       "      <td>42d6616d-c9c5-370a-a8ba-17ead74f3114</td>\n",
       "    </tr>\n",
       "    <tr>\n",
       "      <th>3000342</th>\n",
       "      <td>1499778540</td>\n",
       "      <td>43.010000</td>\n",
       "      <td>1</td>\n",
       "      <td>42d6616d-c9c5-370a-a8ba-17ead74f3114</td>\n",
       "    </tr>\n",
       "    <tr>\n",
       "      <th>3001209</th>\n",
       "      <td>1499833020</td>\n",
       "      <td>41.650000</td>\n",
       "      <td>1</td>\n",
       "      <td>42d6616d-c9c5-370a-a8ba-17ead74f3114</td>\n",
       "    </tr>\n",
       "    <tr>\n",
       "      <th>3001210</th>\n",
       "      <td>1499833080</td>\n",
       "      <td>62.010000</td>\n",
       "      <td>1</td>\n",
       "      <td>42d6616d-c9c5-370a-a8ba-17ead74f3114</td>\n",
       "    </tr>\n",
       "    <tr>\n",
       "      <th>3001211</th>\n",
       "      <td>1499833140</td>\n",
       "      <td>34.850000</td>\n",
       "      <td>1</td>\n",
       "      <td>42d6616d-c9c5-370a-a8ba-17ead74f3114</td>\n",
       "    </tr>\n",
       "  </tbody>\n",
       "</table>\n",
       "<p>79554 rows × 4 columns</p>\n",
       "</div>"
      ],
      "text/plain": [
       "          timestamp      value  label                                KPI ID\n",
       "2035     1476583140   0.040727      1  da10a69f-d836-3baa-ad40-3e548ecf1fbd\n",
       "2036     1476583200   0.096183      1  da10a69f-d836-3baa-ad40-3e548ecf1fbd\n",
       "2037     1476583260   0.085152      1  da10a69f-d836-3baa-ad40-3e548ecf1fbd\n",
       "2038     1476583320   0.073104      1  da10a69f-d836-3baa-ad40-3e548ecf1fbd\n",
       "2039     1476583380   0.083456      1  da10a69f-d836-3baa-ad40-3e548ecf1fbd\n",
       "...             ...        ...    ...                                   ...\n",
       "3000341  1499778480  69.180000      1  42d6616d-c9c5-370a-a8ba-17ead74f3114\n",
       "3000342  1499778540  43.010000      1  42d6616d-c9c5-370a-a8ba-17ead74f3114\n",
       "3001209  1499833020  41.650000      1  42d6616d-c9c5-370a-a8ba-17ead74f3114\n",
       "3001210  1499833080  62.010000      1  42d6616d-c9c5-370a-a8ba-17ead74f3114\n",
       "3001211  1499833140  34.850000      1  42d6616d-c9c5-370a-a8ba-17ead74f3114\n",
       "\n",
       "[79554 rows x 4 columns]"
      ]
     },
     "execution_count": 118,
     "metadata": {},
     "output_type": "execute_result"
    }
   ],
   "source": [
    "# Show all the labelled data\n",
    "train_data[train_data['label'] == 1]"
   ]
  },
  {
   "cell_type": "code",
   "execution_count": 119,
   "id": "5c22f435",
   "metadata": {},
   "outputs": [
    {
     "data": {
      "text/html": [
       "<div>\n",
       "<style scoped>\n",
       "    .dataframe tbody tr th:only-of-type {\n",
       "        vertical-align: middle;\n",
       "    }\n",
       "\n",
       "    .dataframe tbody tr th {\n",
       "        vertical-align: top;\n",
       "    }\n",
       "\n",
       "    .dataframe thead th {\n",
       "        text-align: right;\n",
       "    }\n",
       "</style>\n",
       "<table border=\"1\" class=\"dataframe\">\n",
       "  <thead>\n",
       "    <tr style=\"text-align: right;\">\n",
       "      <th></th>\n",
       "      <th>timestamp</th>\n",
       "      <th>value</th>\n",
       "      <th>label</th>\n",
       "      <th>KPI ID</th>\n",
       "    </tr>\n",
       "  </thead>\n",
       "  <tbody>\n",
       "    <tr>\n",
       "      <th>645</th>\n",
       "      <td>1482979740</td>\n",
       "      <td>0.075084</td>\n",
       "      <td>1</td>\n",
       "      <td>da10a69f-d836-3baa-ad40-3e548ecf1fbd</td>\n",
       "    </tr>\n",
       "    <tr>\n",
       "      <th>646</th>\n",
       "      <td>1482979800</td>\n",
       "      <td>0.268894</td>\n",
       "      <td>1</td>\n",
       "      <td>da10a69f-d836-3baa-ad40-3e548ecf1fbd</td>\n",
       "    </tr>\n",
       "    <tr>\n",
       "      <th>647</th>\n",
       "      <td>1482979860</td>\n",
       "      <td>0.585649</td>\n",
       "      <td>1</td>\n",
       "      <td>da10a69f-d836-3baa-ad40-3e548ecf1fbd</td>\n",
       "    </tr>\n",
       "    <tr>\n",
       "      <th>648</th>\n",
       "      <td>1482979920</td>\n",
       "      <td>0.035971</td>\n",
       "      <td>1</td>\n",
       "      <td>da10a69f-d836-3baa-ad40-3e548ecf1fbd</td>\n",
       "    </tr>\n",
       "    <tr>\n",
       "      <th>819</th>\n",
       "      <td>1482990180</td>\n",
       "      <td>0.05882</td>\n",
       "      <td>1</td>\n",
       "      <td>da10a69f-d836-3baa-ad40-3e548ecf1fbd</td>\n",
       "    </tr>\n",
       "    <tr>\n",
       "      <th>...</th>\n",
       "      <td>...</td>\n",
       "      <td>...</td>\n",
       "      <td>...</td>\n",
       "      <td>...</td>\n",
       "    </tr>\n",
       "    <tr>\n",
       "      <th>2915434</th>\n",
       "      <td>1508779680</td>\n",
       "      <td>32.89</td>\n",
       "      <td>1</td>\n",
       "      <td>42d6616d-c9c5-370a-a8ba-17ead74f3114</td>\n",
       "    </tr>\n",
       "    <tr>\n",
       "      <th>2916074</th>\n",
       "      <td>1508818080</td>\n",
       "      <td>27.69</td>\n",
       "      <td>1</td>\n",
       "      <td>42d6616d-c9c5-370a-a8ba-17ead74f3114</td>\n",
       "    </tr>\n",
       "    <tr>\n",
       "      <th>2916075</th>\n",
       "      <td>1508818140</td>\n",
       "      <td>64.77</td>\n",
       "      <td>1</td>\n",
       "      <td>42d6616d-c9c5-370a-a8ba-17ead74f3114</td>\n",
       "    </tr>\n",
       "    <tr>\n",
       "      <th>2916076</th>\n",
       "      <td>1508818200</td>\n",
       "      <td>33.22</td>\n",
       "      <td>1</td>\n",
       "      <td>42d6616d-c9c5-370a-a8ba-17ead74f3114</td>\n",
       "    </tr>\n",
       "    <tr>\n",
       "      <th>2916077</th>\n",
       "      <td>1508818260</td>\n",
       "      <td>28.78</td>\n",
       "      <td>1</td>\n",
       "      <td>42d6616d-c9c5-370a-a8ba-17ead74f3114</td>\n",
       "    </tr>\n",
       "  </tbody>\n",
       "</table>\n",
       "<p>54560 rows × 4 columns</p>\n",
       "</div>"
      ],
      "text/plain": [
       "          timestamp     value label                                KPI ID\n",
       "645      1482979740  0.075084     1  da10a69f-d836-3baa-ad40-3e548ecf1fbd\n",
       "646      1482979800  0.268894     1  da10a69f-d836-3baa-ad40-3e548ecf1fbd\n",
       "647      1482979860  0.585649     1  da10a69f-d836-3baa-ad40-3e548ecf1fbd\n",
       "648      1482979920  0.035971     1  da10a69f-d836-3baa-ad40-3e548ecf1fbd\n",
       "819      1482990180   0.05882     1  da10a69f-d836-3baa-ad40-3e548ecf1fbd\n",
       "...             ...       ...   ...                                   ...\n",
       "2915434  1508779680     32.89     1  42d6616d-c9c5-370a-a8ba-17ead74f3114\n",
       "2916074  1508818080     27.69     1  42d6616d-c9c5-370a-a8ba-17ead74f3114\n",
       "2916075  1508818140     64.77     1  42d6616d-c9c5-370a-a8ba-17ead74f3114\n",
       "2916076  1508818200     33.22     1  42d6616d-c9c5-370a-a8ba-17ead74f3114\n",
       "2916077  1508818260     28.78     1  42d6616d-c9c5-370a-a8ba-17ead74f3114\n",
       "\n",
       "[54560 rows x 4 columns]"
      ]
     },
     "execution_count": 119,
     "metadata": {},
     "output_type": "execute_result"
    }
   ],
   "source": [
    "# Show all the labelled data\n",
    "test_data[test_data['label'] == 1]"
   ]
  },
  {
   "cell_type": "code",
   "execution_count": null,
   "id": "212fe2a6",
   "metadata": {},
   "outputs": [],
   "source": []
  },
  {
   "cell_type": "code",
   "execution_count": null,
   "id": "d9eb3388",
   "metadata": {},
   "outputs": [],
   "source": []
  },
  {
   "cell_type": "code",
   "execution_count": null,
   "id": "40ae5f09",
   "metadata": {},
   "outputs": [],
   "source": []
  },
  {
   "cell_type": "code",
   "execution_count": null,
   "id": "4499b634",
   "metadata": {},
   "outputs": [],
   "source": []
  },
  {
   "cell_type": "code",
   "execution_count": null,
   "id": "a5ac5878",
   "metadata": {},
   "outputs": [],
   "source": []
  },
  {
   "cell_type": "code",
   "execution_count": null,
   "id": "e075db90",
   "metadata": {},
   "outputs": [],
   "source": []
  }
 ],
 "metadata": {
  "kernelspec": {
   "display_name": "Python 3",
   "language": "python",
   "name": "python3"
  },
  "language_info": {
   "codemirror_mode": {
    "name": "ipython",
    "version": 3
   },
   "file_extension": ".py",
   "mimetype": "text/x-python",
   "name": "python",
   "nbconvert_exporter": "python",
   "pygments_lexer": "ipython3",
   "version": "3.8.8"
  }
 },
 "nbformat": 4,
 "nbformat_minor": 5
}
